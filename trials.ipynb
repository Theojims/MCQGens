{
 "cells": [
  {
   "cell_type": "code",
   "execution_count": 1,
   "metadata": {},
   "outputs": [],
   "source": [
    "import os"
   ]
  },
  {
   "cell_type": "code",
   "execution_count": 4,
   "metadata": {},
   "outputs": [],
   "source": [
    "from setuptools import setup, find_packages"
   ]
  },
  {
   "cell_type": "code",
   "execution_count": 3,
   "metadata": {},
   "outputs": [
    {
     "data": {
      "text/plain": [
       "['Command',\n",
       " 'Distribution',\n",
       " 'DistutilsOptionError',\n",
       " 'Extension',\n",
       " 'PEP420PackageFinder',\n",
       " 'PackageFinder',\n",
       " 'Require',\n",
       " 'SetuptoolsDeprecationWarning',\n",
       " 'TYPE_CHECKING',\n",
       " '_Command',\n",
       " '__all__',\n",
       " '__builtins__',\n",
       " '__cached__',\n",
       " '__doc__',\n",
       " '__file__',\n",
       " '__loader__',\n",
       " '__name__',\n",
       " '__package__',\n",
       " '__path__',\n",
       " '__spec__',\n",
       " '__version__',\n",
       " '_core_metadata',\n",
       " '_distutils',\n",
       " '_distutils_hack',\n",
       " '_entry_points',\n",
       " '_fetch_build_eggs',\n",
       " '_find_all_simple',\n",
       " '_imp',\n",
       " '_importlib',\n",
       " '_install_setup_requires',\n",
       " '_itertools',\n",
       " '_normalization',\n",
       " '_path',\n",
       " '_reqs',\n",
       " '_version_module',\n",
       " 'bootstrap_install_from',\n",
       " 'command',\n",
       " 'config',\n",
       " 'depends',\n",
       " 'discovery',\n",
       " 'dist',\n",
       " 'distutils',\n",
       " 'errors',\n",
       " 'extension',\n",
       " 'find_namespace_packages',\n",
       " 'find_packages',\n",
       " 'findall',\n",
       " 'functools',\n",
       " 'logging',\n",
       " 'monkey',\n",
       " 'msvc',\n",
       " 'os',\n",
       " 're',\n",
       " 'setup',\n",
       " 'sic',\n",
       " 'sys',\n",
       " 'vendor_path',\n",
       " 'version',\n",
       " 'warnings']"
      ]
     },
     "execution_count": 3,
     "metadata": {},
     "output_type": "execute_result"
    }
   ],
   "source": [
    "dir(setuptools)"
   ]
  },
  {
   "cell_type": "code",
   "execution_count": 5,
   "metadata": {},
   "outputs": [
    {
     "name": "stdout",
     "output_type": "stream",
     "text": [
      "Help on function setup in module setuptools:\n",
      "\n",
      "setup(**attrs)\n",
      "    The gateway to the Distutils: do everything your setup script needs\n",
      "    to do, in a highly flexible and user-driven way.  Briefly: create a\n",
      "    Distribution instance; find and parse config files; parse the command\n",
      "    line; run each Distutils command found there, customized by the options\n",
      "    supplied to 'setup()' (as keyword arguments), in config files, and on\n",
      "    the command line.\n",
      "\n",
      "    The Distribution instance might be an instance of a class supplied via\n",
      "    the 'distclass' keyword argument to 'setup'; if no such class is\n",
      "    supplied, then the Distribution class (in dist.py) is instantiated.\n",
      "    All other arguments to 'setup' (except for 'cmdclass') are used to set\n",
      "    attributes of the Distribution instance.\n",
      "\n",
      "    The 'cmdclass' argument, if supplied, is a dictionary mapping command\n",
      "    names to command classes.  Each command encountered on the command line\n",
      "    will be turned into a command class, which is in turn instantiated; any\n",
      "    class found in 'cmdclass' is used in place of the default, which is\n",
      "    (for command 'foo_bar') class 'foo_bar' in module\n",
      "    'distutils.command.foo_bar'.  The command class must provide a\n",
      "    'user_options' attribute which is a list of option specifiers for\n",
      "    'distutils.fancy_getopt'.  Any command-line options between the current\n",
      "    and the next command are used to set attributes of the current command\n",
      "    object.\n",
      "\n",
      "    When the entire command-line has been successfully parsed, calls the\n",
      "    'run()' method on each command object in turn.  This method will be\n",
      "    driven entirely by the Distribution object (which each command object\n",
      "    has a reference to, thanks to its constructor), and the\n",
      "    command-specific options that became attributes of each command\n",
      "    object.\n",
      "\n"
     ]
    }
   ],
   "source": [
    "(setup)"
   ]
  },
  {
   "cell_type": "code",
   "execution_count": null,
   "metadata": {},
   "outputs": [],
   "source": []
  }
 ],
 "metadata": {
  "kernelspec": {
   "display_name": "mcqgenenv",
   "language": "python",
   "name": "python3"
  },
  "language_info": {
   "codemirror_mode": {
    "name": "ipython",
    "version": 3
   },
   "file_extension": ".py",
   "mimetype": "text/x-python",
   "name": "python",
   "nbconvert_exporter": "python",
   "pygments_lexer": "ipython3",
   "version": "3.12.4"
  }
 },
 "nbformat": 4,
 "nbformat_minor": 2
}
